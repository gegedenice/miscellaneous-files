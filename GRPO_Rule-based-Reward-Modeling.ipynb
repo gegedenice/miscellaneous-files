{
 "cells": [
  {
   "cell_type": "markdown",
   "id": "16d969d4-d3a4-4c46-b647-167236c78768",
   "metadata": {},
   "source": [
    "<h3 align=\"center\">Status : <span class=\"badge\"><b>En cours</b></span></h3>\n",
    "\n",
    "<h1 align=\"center\">RL GRPO</h1>\n",
    "\n",
    "---\n",
    "\n",
    "<h1 align=\"center\">Training a small Unimarc reasoner with RL</h1>"
   ]
  },
  {
   "cell_type": "markdown",
   "id": "208a0dbc-baee-49c3-9ce6-2522e07c3be6",
   "metadata": {},
   "source": [
    "# Requirements"
   ]
  },
  {
   "cell_type": "code",
   "execution_count": 1,
   "id": "1ddac3ec-3e4e-48b8-9a69-4d0fe027dfad",
   "metadata": {},
   "outputs": [
    {
     "name": "stdout",
     "output_type": "stream",
     "text": [
      "PyTorch:\n",
      "PyTorch version is:2.6.0+cu124\n",
      "PyTorch is working with CUDA\n",
      "The GPU model is: NVIDIA A2\n"
     ]
    }
   ],
   "source": [
    "import torch\n",
    "print(\"PyTorch:\")\n",
    "print(\"PyTorch version is:\" + torch.__version__)\n",
    "print(\"PyTorch is working with CUDA\" if torch.cuda.is_available() else \"Error! It is not working correctly\")\n",
    "print(\"The GPU model is: \"+ torch.cuda.get_device_name(0))"
   ]
  },
  {
   "cell_type": "code",
   "execution_count": null,
   "id": "0516e17e-d358-45e2-8ad7-f16c62cd5378",
   "metadata": {},
   "outputs": [],
   "source": [
    "!pip install -U --quiet datasets transformers huggingface_hub accelerate flash-attn"
   ]
  },
  {
   "cell_type": "markdown",
   "id": "07e21012-2850-4403-a395-c70cdc15465e",
   "metadata": {},
   "source": [
    "# Load model"
   ]
  },
  {
   "cell_type": "code",
   "execution_count": 4,
   "id": "add8b2b4-0c14-4582-98ff-30df58a4ed8f",
   "metadata": {},
   "outputs": [
    {
     "name": "stderr",
     "output_type": "stream",
     "text": [
      "/opt/conda/lib/python3.12/site-packages/tqdm/auto.py:21: TqdmWarning: IProgress not found. Please update jupyter and ipywidgets. See https://ipywidgets.readthedocs.io/en/stable/user_install.html\n",
      "  from .autonotebook import tqdm as notebook_tqdm\n"
     ]
    }
   ],
   "source": [
    "from transformers import AutoModelForCausalLM, AutoTokenizer\n",
    "import torch"
   ]
  },
  {
   "cell_type": "code",
   "execution_count": 5,
   "id": "8a178c0d-8bea-43c5-b2b1-fec88e470af2",
   "metadata": {},
   "outputs": [],
   "source": [
    "model_name = \"Qwen/Qwen2.5-0.5B-Instruct\"\n",
    "tokenizer = AutoTokenizer.from_pretrained(model_name)\n",
    "model = AutoModelForCausalLM.from_pretrained(\n",
    "    model_name,\n",
    "    torch_dtype=\"auto\",\n",
    "    device_map=\"auto\",\n",
    "    attn_implementation=\"flash_attention_2\"\n",
    ")\n",
    "model.config.sliding_window = None"
   ]
  },
  {
   "cell_type": "code",
   "execution_count": 6,
   "id": "6db1ceba-0d68-4622-8e50-3a37e482344b",
   "metadata": {},
   "outputs": [
    {
     "data": {
      "text/plain": [
       "Qwen2ForCausalLM(\n",
       "  (model): Qwen2Model(\n",
       "    (embed_tokens): Embedding(151936, 896)\n",
       "    (layers): ModuleList(\n",
       "      (0-23): 24 x Qwen2DecoderLayer(\n",
       "        (self_attn): Qwen2Attention(\n",
       "          (q_proj): Linear(in_features=896, out_features=896, bias=True)\n",
       "          (k_proj): Linear(in_features=896, out_features=128, bias=True)\n",
       "          (v_proj): Linear(in_features=896, out_features=128, bias=True)\n",
       "          (o_proj): Linear(in_features=896, out_features=896, bias=False)\n",
       "        )\n",
       "        (mlp): Qwen2MLP(\n",
       "          (gate_proj): Linear(in_features=896, out_features=4864, bias=False)\n",
       "          (up_proj): Linear(in_features=896, out_features=4864, bias=False)\n",
       "          (down_proj): Linear(in_features=4864, out_features=896, bias=False)\n",
       "          (act_fn): SiLU()\n",
       "        )\n",
       "        (input_layernorm): Qwen2RMSNorm((896,), eps=1e-06)\n",
       "        (post_attention_layernorm): Qwen2RMSNorm((896,), eps=1e-06)\n",
       "      )\n",
       "    )\n",
       "    (norm): Qwen2RMSNorm((896,), eps=1e-06)\n",
       "    (rotary_emb): Qwen2RotaryEmbedding()\n",
       "  )\n",
       "  (lm_head): Linear(in_features=896, out_features=151936, bias=False)\n",
       ")"
      ]
     },
     "execution_count": 6,
     "metadata": {},
     "output_type": "execute_result"
    }
   ],
   "source": [
    "device = \"cuda\" # for GPU usage or \"cpu\" for CPU usage\n",
    "model = model.to(device)\n",
    "model.eval()"
   ]
  },
  {
   "cell_type": "code",
   "execution_count": 17,
   "id": "bca1192b-9713-4f53-9340-c17d0273e6b3",
   "metadata": {},
   "outputs": [],
   "source": [
    "# !Important\n",
    "tokenizer.padding_side = \"left\""
   ]
  },
  {
   "cell_type": "markdown",
   "id": "70fdbedb-cdcf-471b-87d1-980842de7d49",
   "metadata": {},
   "source": [
    "## Inspect tokenizer"
   ]
  },
  {
   "cell_type": "code",
   "execution_count": 7,
   "id": "cea2c081-d317-4090-ab34-2c9fd5d6da83",
   "metadata": {},
   "outputs": [
    {
     "data": {
      "text/plain": [
       "151665"
      ]
     },
     "execution_count": 7,
     "metadata": {},
     "output_type": "execute_result"
    }
   ],
   "source": [
    "len(tokenizer)"
   ]
  },
  {
   "cell_type": "code",
   "execution_count": 16,
   "id": "b093e0fa-0034-4024-8b51-b685c53de48c",
   "metadata": {},
   "outputs": [
    {
     "name": "stdout",
     "output_type": "stream",
     "text": [
      "**EOS**\n",
      "EOS token: <|im_end|>\n",
      "- EOS token id: 151645\n",
      "\n",
      "**PAD**\n",
      "PAD token: <|endoftext|>\n",
      "- PAD token id: 151643\n"
     ]
    }
   ],
   "source": [
    "print(f\"**EOS**\\nEOS token: {tokenizer.eos_token}\\n- EOS token id: {tokenizer.eos_token_id}\\n\\n**PAD**\\nPAD token: {tokenizer.pad_token}\\n- PAD token id: {tokenizer.pad_token_id}\")"
   ]
  },
  {
   "cell_type": "code",
   "execution_count": 18,
   "id": "d1097588-e692-4a37-9253-56eefc10537f",
   "metadata": {},
   "outputs": [
    {
     "data": {
      "text/plain": [
       "{'input_ids': tensor([[ 1782, 12884,   374,  6303]], device='cuda:0'), 'attention_mask': tensor([[1, 1, 1, 1]], device='cuda:0')}"
      ]
     },
     "execution_count": 18,
     "metadata": {},
     "output_type": "execute_result"
    }
   ],
   "source": [
    "tokenizer(\"the sky is blue\", return_tensors=\"pt\").to(device)"
   ]
  },
  {
   "cell_type": "code",
   "execution_count": 19,
   "id": "a232afe9-f43e-405d-b470-78fa8a0f26c2",
   "metadata": {},
   "outputs": [],
   "source": [
    "input_ids = tokenizer(\"the sky is blue\", return_tensors=\"pt\").to(device).input_ids[0]"
   ]
  },
  {
   "cell_type": "code",
   "execution_count": 20,
   "id": "b85a729e-cee3-4264-82dd-90e0e62e78a7",
   "metadata": {},
   "outputs": [
    {
     "data": {
      "text/plain": [
       "'the sky is blue'"
      ]
     },
     "execution_count": 20,
     "metadata": {},
     "output_type": "execute_result"
    }
   ],
   "source": [
    "tokenizer.decode(input_ids)"
   ]
  },
  {
   "cell_type": "code",
   "execution_count": 21,
   "id": "03458069-d640-43d2-b800-f4c1882b7dd1",
   "metadata": {},
   "outputs": [
    {
     "name": "stdout",
     "output_type": "stream",
     "text": [
      "Current chat template: {%- if tools %}\n",
      "    {{- '<|im_start|>system\\n' }}\n",
      "    {%- if messages[0]['role'] == 'system' %}\n",
      "        {{- messages[0]['content'] }}\n",
      "    {%- else %}\n",
      "        {{- 'You are Qwen, created by Alibaba Cloud. You are a helpful assistant.' }}\n",
      "    {%- endif %}\n",
      "    {{- \"\\n\\n# Tools\\n\\nYou may call one or more functions to assist with the user query.\\n\\nYou are provided with function signatures within <tools></tools> XML tags:\\n<tools>\" }}\n",
      "    {%- for tool in tools %}\n",
      "        {{- \"\\n\" }}\n",
      "        {{- tool | tojson }}\n",
      "    {%- endfor %}\n",
      "    {{- \"\\n</tools>\\n\\nFor each function call, return a json object with function name and arguments within <tool_call></tool_call> XML tags:\\n<tool_call>\\n{\\\"name\\\": <function-name>, \\\"arguments\\\": <args-json-object>}\\n</tool_call><|im_end|>\\n\" }}\n",
      "{%- else %}\n",
      "    {%- if messages[0]['role'] == 'system' %}\n",
      "        {{- '<|im_start|>system\\n' + messages[0]['content'] + '<|im_end|>\\n' }}\n",
      "    {%- else %}\n",
      "        {{- '<|im_start|>system\\nYou are Qwen, created by Alibaba Cloud. You are a helpful assistant.<|im_end|>\\n' }}\n",
      "    {%- endif %}\n",
      "{%- endif %}\n",
      "{%- for message in messages %}\n",
      "    {%- if (message.role == \"user\") or (message.role == \"system\" and not loop.first) or (message.role == \"assistant\" and not message.tool_calls) %}\n",
      "        {{- '<|im_start|>' + message.role + '\\n' + message.content + '<|im_end|>' + '\\n' }}\n",
      "    {%- elif message.role == \"assistant\" %}\n",
      "        {{- '<|im_start|>' + message.role }}\n",
      "        {%- if message.content %}\n",
      "            {{- '\\n' + message.content }}\n",
      "        {%- endif %}\n",
      "        {%- for tool_call in message.tool_calls %}\n",
      "            {%- if tool_call.function is defined %}\n",
      "                {%- set tool_call = tool_call.function %}\n",
      "            {%- endif %}\n",
      "            {{- '\\n<tool_call>\\n{\"name\": \"' }}\n",
      "            {{- tool_call.name }}\n",
      "            {{- '\", \"arguments\": ' }}\n",
      "            {{- tool_call.arguments | tojson }}\n",
      "            {{- '}\\n</tool_call>' }}\n",
      "        {%- endfor %}\n",
      "        {{- '<|im_end|>\\n' }}\n",
      "    {%- elif message.role == \"tool\" %}\n",
      "        {%- if (loop.index0 == 0) or (messages[loop.index0 - 1].role != \"tool\") %}\n",
      "            {{- '<|im_start|>user' }}\n",
      "        {%- endif %}\n",
      "        {{- '\\n<tool_response>\\n' }}\n",
      "        {{- message.content }}\n",
      "        {{- '\\n</tool_response>' }}\n",
      "        {%- if loop.last or (messages[loop.index0 + 1].role != \"tool\") %}\n",
      "            {{- '<|im_end|>\\n' }}\n",
      "        {%- endif %}\n",
      "    {%- endif %}\n",
      "{%- endfor %}\n",
      "{%- if add_generation_prompt %}\n",
      "    {{- '<|im_start|>assistant\\n' }}\n",
      "{%- endif %}\n",
      "\n"
     ]
    }
   ],
   "source": [
    "if hasattr(tokenizer, \"chat_template\"):\n",
    "    print(\"Current chat template:\", tokenizer.chat_template)"
   ]
  },
  {
   "cell_type": "markdown",
   "id": "650b9be4-19ca-40cc-97af-56bd0f6f570f",
   "metadata": {},
   "source": [
    "## Inference"
   ]
  },
  {
   "cell_type": "markdown",
   "id": "6daf62b3-b325-42ed-8dee-f4e74c704f3c",
   "metadata": {},
   "source": [
    "### Without applying chat templating"
   ]
  },
  {
   "cell_type": "code",
   "execution_count": 37,
   "id": "92e78fa0-e0d2-4382-b738-98663777d509",
   "metadata": {},
   "outputs": [],
   "source": [
    "prompt = \"<|im_start|>system: You are a helpful assistant<|im_end|><|im_start|>user: complete this sentence 'the sky is blue and '<|im_end|><|im_start|>assistant: \"\n",
    "inputs = tokenizer(prompt, return_tensors=\"pt\").to(device)"
   ]
  },
  {
   "cell_type": "code",
   "execution_count": 38,
   "id": "8db10eed-0a4c-4ce6-866e-65574ec0b73a",
   "metadata": {},
   "outputs": [],
   "source": [
    "outputs = model.generate(**inputs,\n",
    "                         max_new_tokens = 4096,\n",
    "                         use_cache = True,)"
   ]
  },
  {
   "cell_type": "code",
   "execution_count": 39,
   "id": "f2145d5d-c8cf-4019-802e-62d49ec09230",
   "metadata": {},
   "outputs": [
    {
     "name": "stdout",
     "output_type": "stream",
     "text": [
      "<|im_start|>system: You are a helpful assistant<|im_end|><|im_start|>user: complete this sentence 'the sky is blue and '<|im_end|><|im_start|>assistant:  the sky is blue and the clouds are white.<|im_end|>\n"
     ]
    }
   ],
   "source": [
    "print(tokenizer.decode(outputs[0], skip_special_tokens=False))"
   ]
  },
  {
   "cell_type": "markdown",
   "id": "55a0c2d9-0160-41be-9d2e-e3bda819782e",
   "metadata": {},
   "source": [
    "### With applying chat templating"
   ]
  },
  {
   "cell_type": "code",
   "execution_count": 58,
   "id": "85afd227-55ec-4845-a617-2f5023d8ffff",
   "metadata": {},
   "outputs": [],
   "source": [
    "SYSTEM_PROMPT = \"\"\"\n",
    "You are an expert in Unimarc/XML bibliographic records.\n",
    "Respond in the following format:\n",
    "<reasoning>\n",
    "...\n",
    "</reasoning>\n",
    "<answer>\n",
    "...\n",
    "</answer>\n",
    "\"\"\"\n",
    "\n",
    "# source: https://arxiv.org/pdf/2503.19470v1\n",
    "SYSTEM_PROMPT_1 = \"\"\"\n",
    "You are a helpful assistant that can solve the given question step by step. \n",
    "Given a question, you need to first think about the reasoning process in\n",
    "the mind and then provide the answer. The reasoning process and\n",
    "answer are enclosed within <think> </think> and <answer> </answer> tags respectively. \n",
    "For example, <think> This is the reasoning process. </think>\n",
    "<answer> The final answer is \\boxed{answer here}\n",
    "</answer>. In the last part of the answer, the final exact answer is enclosed within \\boxed{}\n",
    "with xml format.\n",
    "\"\"\"\n",
    "\n",
    "\n",
    "SYSTEM_PROMPT_2 = (\n",
    "    \"A conversation between User and Assistant. The user asks a question, and the Assistant solves it. The assistant \"\n",
    "    \"first thinks about the reasoning process in the mind and then provides the user with the answer. The reasoning \"\n",
    "    \"process and answer are enclosed within <think> </think> and <answer> </answer> tags, respectively, i.e., \"\n",
    "    \"<think> reasoning process here </think><answer> answer here </answer>\"\n",
    ")\n",
    "\n",
    "user_prompt = \"\"\"\n",
    "Generate a valid Unimarc/XML record from these unstructured informations:\n",
    "Title: Electric vehicle tribology\n",
    "Subtitle: Challenges and opportunities for a sustainable transportation future\n",
    "Author: Leonardo I. Farfan-Cabrera, Ali Erdemir\n",
    "Publisher: Elsevier\n",
    "Year: 2024\n",
    "ISBN: 978-0-443-14074-7\n",
    "Language: English\n",
    "Collection/Series: Elsevier Series on Tribology and Surface Engineering\n",
    "Edition: Not specified\n",
    "Material description: 1 vol. (XI-313 p.), couv. ill. en coul., 23 cm\n",
    "Abstract/Notes: \"Electric vehicle tribology, challenges and opportunities for a sustainable transportation future\" provides practical, comprehensive guidance on a new and increasingly important area of tribology. Building skills from fundamentals to solution design, this book demonstrates the unique tribological techniques essential to the efficient electrification of transport systems. Led by professors with a combined three decades in industry and academia, and collecting insights from experts around the world, this book begins with the essential knowledge regarding both electric vehicles and tribology. After outlining the unique tribological needs of EVs, the book then breaks down the components and hardware required. It provides detailed protocols and methods for the testing and improvement of lubricants and materials as well as a dedicated section on modern lubrication specific to EVs. Throughout, it considers the critical question of sustainable tribology and the long-term sustainable options for lubrication and materials for electric vehicles.\n",
    "Source of the abstract/notes: 4e de couverture\n",
    "Table of contents: Not specified\n",
    "Keywords: Tribologie (technologie), Tribologie (Technologie)\n",
    "\"\"\""
   ]
  },
  {
   "cell_type": "code",
   "execution_count": 59,
   "id": "1e6303e7-c98a-44ab-a0a9-6b545df643f1",
   "metadata": {},
   "outputs": [],
   "source": [
    "messages = [\n",
    "  {\"role\": \"system\", \"content\": SYSTEM_PROMPT_1},\n",
    "  {\"role\": \"user\", \"content\": user_prompt},\n",
    "]"
   ]
  },
  {
   "cell_type": "code",
   "execution_count": 60,
   "id": "6400bc7e-061f-4dc5-a465-d8be980a008f",
   "metadata": {},
   "outputs": [],
   "source": [
    "inputs = tokenizer.apply_chat_template(\n",
    "    messages,\n",
    "    return_dict=True,\n",
    "    tokenize = True,\n",
    "    add_generation_prompt = True, # Must add for generation\n",
    "    return_tensors = \"pt\",\n",
    ").to(device)"
   ]
  },
  {
   "cell_type": "code",
   "execution_count": 61,
   "id": "39395bd2-69eb-4689-8cb6-ffafb1de6e69",
   "metadata": {},
   "outputs": [],
   "source": [
    "outputs = model.generate(\n",
    "    **inputs,\n",
    "    max_new_tokens = 2048,\n",
    "    use_cache = True,\n",
    ")"
   ]
  },
  {
   "cell_type": "code",
   "execution_count": 64,
   "id": "52e940fb-b2f3-4340-8a86-55c0aacc2877",
   "metadata": {},
   "outputs": [
    {
     "name": "stdout",
     "output_type": "stream",
     "text": [
      "system\n",
      "\n",
      "You are a helpful assistant that can solve the given question step by step. \n",
      "Given a question, you need to first think about the reasoning process in\n",
      "the mind and then provide the answer. The reasoning process and\n",
      "answer are enclosed within <think> </think> and <answer> </answer> tags respectively. \n",
      "For example, <think> This is the reasoning process. </think>\n",
      "<answer> The final answer isoxed{answer here}\n",
      "</answer>. In the last part of the answer, the final exact answer is enclosed withinoxed{}\n",
      "with xml format.\n",
      "\n",
      "user\n",
      "\n",
      "Generate a valid Unimarc/XML record from these unstructured informations:\n",
      "Title: Electric vehicle tribology\n",
      "Subtitle: Challenges and opportunities for a sustainable transportation future\n",
      "Author: Leonardo I. Farfan-Cabrera, Ali Erdemir\n",
      "Publisher: Elsevier\n",
      "Year: 2024\n",
      "ISBN: 978-0-443-14074-7\n",
      "Language: English\n",
      "Collection/Series: Elsevier Series on Tribology and Surface Engineering\n",
      "Edition: Not specified\n",
      "Material description: 1 vol. (XI-313 p.), couv. ill. en coul., 23 cm\n",
      "Abstract/Notes: \"Electric vehicle tribology, challenges and opportunities for a sustainable transportation future\" provides practical, comprehensive guidance on a new and increasingly important area of tribology. Building skills from fundamentals to solution design, this book demonstrates the unique tribological techniques essential to the efficient electrification of transport systems. Led by professors with a combined three decades in industry and academia, and collecting insights from experts around the world, this book begins with the essential knowledge regarding both electric vehicles and tribology. After outlining the unique tribological needs of EVs, the book then breaks down the components and hardware required. It provides detailed protocols and methods for the testing and improvement of lubricants and materials as well as a dedicated section on modern lubrication specific to EVs. Throughout, it considers the critical question of sustainable tribology and the long-term sustainable options for lubrication and materials for electric vehicles.\n",
      "Source of the abstract/notes: 4e de couverture\n",
      "Table of contents: Not specified\n",
      "Keywords: Tribologie (technologie), Tribologie (Technologie)\n",
      "\n",
      "assistant\n",
      "To generate a valid Unimarc/XML record from the given information, we need to follow these steps:\n",
      "\n",
      "1. Identify the key elements from each piece of information.\n",
      "2. Determine which XML element best represents the content of the document.\n",
      "3. Create the XML structure based on the identified elements.\n",
      "\n",
      "Step 1: Key elements from each piece of information:\n",
      "- Title: Electric vehicle tribology\n",
      "- Subtitle: Challenges and opportunities for a sustainable transportation future\n",
      "- Author: Leonardo I. Farfan-Cabrera, Ali Erdemir\n",
      "- Publisher: Elsevier\n",
      "- Year: 2024\n",
      "- ISBN: 978-0-443-14074-7\n",
      "- Language: English\n",
      "- Collection/Series: Elsevier Series on Tribology and Surface Engineering\n",
      "- Edition: Not specified\n",
      "- Material description: 1 vol. (XI-313 p.), couv. ill. en coul., 23 cm\n",
      "- Abstract/Notes: \"Electric vehicle tribology, challenges and opportunities for a sustainable transportation future\"\n",
      "- Source of the abstract/notes: 4e de couverture\n",
      "- Table of contents: Not specified\n",
      "- Keywords: Tribologie (technologie), Tribologie (Technologie)\n",
      "\n",
      "Step 2: Identify the appropriate XML element for each piece of information:\n",
      "- Title: <title>\n",
      "- Abstract/Notes: <abstract>\n",
      "- Table of contents: <table-of-contents>\n",
      "- Authors: <authors>\n",
      "- Publisher: <publisher>\n",
      "- Year: <year>\n",
      "- ISBN: <isbn>\n",
      "- Language: <language>\n",
      "- Collection/Series: <collection-series>\n",
      "- Material description: <material-description>\n",
      "\n",
      "Step 3: Create the XML structure based on the identified elements:\n",
      "```xml\n",
      "<?xml version=\"1.0\"?>\n",
      "<!DOCTYPE unimarc [\n",
      "    <!ENTITY nbsp \"<br />\">\n",
      "]>\n",
      "<unimarc xmlns:xsi=\"http://www.w3.org/2001/XMLSchema-instance\" xsi:noNamespaceSchemaLocation=\"http://unimarc.org/unimarc/schema/unimarc-unix.xsd\">\n",
      "  <record>\n",
      "    <title type=\"primary\">Electric vehicle tribology</title>\n",
      "    <subtitle type=\"secondary\">Challenges and opportunities for a sustainable transportation future</subtitle>\n",
      "    <author name=\"Leonardo I. Farfan-Cabrera, Ali Erdemir\"/>\n",
      "    <publisher name=\"Elsevier\"/>\n",
      "    <year date=\"2024\"/>\n",
      "    <isbn number=\"978-0-443-14074-7\"/>\n",
      "    <language type=\"text\">English</language>\n",
      "    <collection series=\"Series on Tribology and Surface Engineering\"/>\n",
      "    <edition notspecified/>\n",
      "    <material description type=\"text\">1 volume (XII-313 pages), cover ill., 23 cm</material_description>\n",
      "    <abstract type=\"secondary\">Electric vehicle tribology, challenges and opportunities for a sustainable transportation future</abstract>\n",
      "    <table-of-contents type=\"primary\">Not specified</table-of-contents>\n",
      "    <authors name=\"Leonardo I. Farfan-Cabrera, Ali Erdemir\"/>\n",
      "    <publisher name=\"Elsevier\"/>\n",
      "    <year date=\"2024\"/>\n",
      "    <isbn number=\"978-0-443-14074-7\"/>\n",
      "    <language type=\"text\">English</language>\n",
      "    <keywords type=\"primary\">Tribologie (technologie), Tribologie (Technologie)</keywords>\n",
      "  </record>\n",
      "</unimarc>\n",
      "```\n",
      "\n",
      "This XML structure encapsulates all the provided information into an Unimarc XML record. Each piece of information has been appropriately structured to fit within the Unimarc schema.\n"
     ]
    }
   ],
   "source": [
    "print(tokenizer.decode(outputs[0], skip_special_tokens=True))"
   ]
  },
  {
   "cell_type": "code",
   "execution_count": 62,
   "id": "c037b7da-39f5-4576-80a3-7267775e0408",
   "metadata": {},
   "outputs": [],
   "source": [
    "generated_ids = [\n",
    "   output_ids[len(input_ids):] for input_ids, output_ids in zip(inputs.input_ids, outputs)\n",
    "]"
   ]
  },
  {
   "cell_type": "code",
   "execution_count": 63,
   "id": "766efb3a-dc8c-4278-b4be-1174ba8aa78f",
   "metadata": {},
   "outputs": [
    {
     "name": "stdout",
     "output_type": "stream",
     "text": [
      "To generate a valid Unimarc/XML record from the given information, we need to follow these steps:\n",
      "\n",
      "1. Identify the key elements from each piece of information.\n",
      "2. Determine which XML element best represents the content of the document.\n",
      "3. Create the XML structure based on the identified elements.\n",
      "\n",
      "Step 1: Key elements from each piece of information:\n",
      "- Title: Electric vehicle tribology\n",
      "- Subtitle: Challenges and opportunities for a sustainable transportation future\n",
      "- Author: Leonardo I. Farfan-Cabrera, Ali Erdemir\n",
      "- Publisher: Elsevier\n",
      "- Year: 2024\n",
      "- ISBN: 978-0-443-14074-7\n",
      "- Language: English\n",
      "- Collection/Series: Elsevier Series on Tribology and Surface Engineering\n",
      "- Edition: Not specified\n",
      "- Material description: 1 vol. (XI-313 p.), couv. ill. en coul., 23 cm\n",
      "- Abstract/Notes: \"Electric vehicle tribology, challenges and opportunities for a sustainable transportation future\"\n",
      "- Source of the abstract/notes: 4e de couverture\n",
      "- Table of contents: Not specified\n",
      "- Keywords: Tribologie (technologie), Tribologie (Technologie)\n",
      "\n",
      "Step 2: Identify the appropriate XML element for each piece of information:\n",
      "- Title: <title>\n",
      "- Abstract/Notes: <abstract>\n",
      "- Table of contents: <table-of-contents>\n",
      "- Authors: <authors>\n",
      "- Publisher: <publisher>\n",
      "- Year: <year>\n",
      "- ISBN: <isbn>\n",
      "- Language: <language>\n",
      "- Collection/Series: <collection-series>\n",
      "- Material description: <material-description>\n",
      "\n",
      "Step 3: Create the XML structure based on the identified elements:\n",
      "```xml\n",
      "<?xml version=\"1.0\"?>\n",
      "<!DOCTYPE unimarc [\n",
      "    <!ENTITY nbsp \"<br />\">\n",
      "]>\n",
      "<unimarc xmlns:xsi=\"http://www.w3.org/2001/XMLSchema-instance\" xsi:noNamespaceSchemaLocation=\"http://unimarc.org/unimarc/schema/unimarc-unix.xsd\">\n",
      "  <record>\n",
      "    <title type=\"primary\">Electric vehicle tribology</title>\n",
      "    <subtitle type=\"secondary\">Challenges and opportunities for a sustainable transportation future</subtitle>\n",
      "    <author name=\"Leonardo I. Farfan-Cabrera, Ali Erdemir\"/>\n",
      "    <publisher name=\"Elsevier\"/>\n",
      "    <year date=\"2024\"/>\n",
      "    <isbn number=\"978-0-443-14074-7\"/>\n",
      "    <language type=\"text\">English</language>\n",
      "    <collection series=\"Series on Tribology and Surface Engineering\"/>\n",
      "    <edition notspecified/>\n",
      "    <material description type=\"text\">1 volume (XII-313 pages), cover ill., 23 cm</material_description>\n",
      "    <abstract type=\"secondary\">Electric vehicle tribology, challenges and opportunities for a sustainable transportation future</abstract>\n",
      "    <table-of-contents type=\"primary\">Not specified</table-of-contents>\n",
      "    <authors name=\"Leonardo I. Farfan-Cabrera, Ali Erdemir\"/>\n",
      "    <publisher name=\"Elsevier\"/>\n",
      "    <year date=\"2024\"/>\n",
      "    <isbn number=\"978-0-443-14074-7\"/>\n",
      "    <language type=\"text\">English</language>\n",
      "    <keywords type=\"primary\">Tribologie (technologie), Tribologie (Technologie)</keywords>\n",
      "  </record>\n",
      "</unimarc>\n",
      "```\n",
      "\n",
      "This XML structure encapsulates all the provided information into an Unimarc XML record. Each piece of information has been appropriately structured to fit within the Unimarc schema.\n"
     ]
    }
   ],
   "source": [
    "print(tokenizer.batch_decode(generated_ids, skip_special_tokens=True)[0])"
   ]
  },
  {
   "cell_type": "markdown",
   "id": "1c09f9a3-8e84-4392-a2c1-eacfe5d26b3d",
   "metadata": {},
   "source": [
    "# Load data"
   ]
  },
  {
   "cell_type": "code",
   "execution_count": 65,
   "id": "e481b67f-1e1f-4ec2-b573-a5a8c61ef24c",
   "metadata": {},
   "outputs": [],
   "source": [
    "from datasets import load_dataset, Dataset\n",
    "import pandas as pd"
   ]
  },
  {
   "cell_type": "code",
   "execution_count": 66,
   "id": "4ea14964-a96a-400b-a2ac-855241bc2ea4",
   "metadata": {},
   "outputs": [
    {
     "name": "stderr",
     "output_type": "stream",
     "text": [
      "Generating train split: 100%|██████████| 1510/1510 [00:00<00:00, 23014.98 examples/s]\n"
     ]
    },
    {
     "data": {
      "text/plain": [
       "Dataset({\n",
       "    features: ['ppn', 'question', 'answer'],\n",
       "    num_rows: 1510\n",
       "})"
      ]
     },
     "execution_count": 66,
     "metadata": {},
     "output_type": "execute_result"
    }
   ],
   "source": [
    "dataset = load_dataset(\"Geraldine/Unimarc-rcr061522302-1.5k\", split=\"train\")\n",
    "dataset"
   ]
  },
  {
   "cell_type": "code",
   "execution_count": 69,
   "id": "403e29ed-2e8c-470b-9100-80f28c6d4c59",
   "metadata": {},
   "outputs": [],
   "source": [
    "def format_prompt(example):\n",
    "    data = {\n",
    "        \"prompt\": [\n",
    "            {\n",
    "            \"role\": \"system\",\n",
    "            \"content\": SYSTEM_PROMPT_1,\n",
    "        },\n",
    "            {\n",
    "            \"role\": \"user\",\n",
    "            \"content\": example['question'].strip(),\n",
    "        }],\n",
    "        \"ability\": \"fact-reasoning\",\n",
    "        \"reward_model\": {\n",
    "            \"style\": \"rule\",\n",
    "            \"ground_truth\": example['answer'].strip()\n",
    "        },\n",
    "        \"extra_info\": {\n",
    "            'index': example['ppn'].strip(),\n",
    "        }\n",
    "    }\n",
    "    return data"
   ]
  },
  {
   "cell_type": "code",
   "execution_count": 71,
   "id": "02a6a135-d4e0-4b90-ba3c-63d4cdfa3c27",
   "metadata": {},
   "outputs": [
    {
     "name": "stderr",
     "output_type": "stream",
     "text": [
      "Map: 100%|██████████| 1510/1510 [00:00<00:00, 4445.16 examples/s]\n"
     ]
    }
   ],
   "source": [
    "dataset = dataset.map(format_prompt)"
   ]
  },
  {
   "cell_type": "code",
   "execution_count": 78,
   "id": "d9f67044-2aa0-4449-a5b7-0b9bd1da13fb",
   "metadata": {},
   "outputs": [
    {
     "data": {
      "text/plain": [
       "Dataset({\n",
       "    features: ['ppn', 'question', 'answer', 'prompt', 'ability', 'reward_model', 'extra_info'],\n",
       "    num_rows: 1510\n",
       "})"
      ]
     },
     "execution_count": 78,
     "metadata": {},
     "output_type": "execute_result"
    }
   ],
   "source": [
    "dataset"
   ]
  },
  {
   "cell_type": "code",
   "execution_count": 77,
   "id": "91ecd306-d1f3-4e07-9976-2463b69b01a3",
   "metadata": {},
   "outputs": [
    {
     "data": {
      "text/plain": [
       "[{'content': '\\nYou are a helpful assistant that can solve the given question step by step. \\nGiven a question, you need to first think about the reasoning process in\\nthe mind and then provide the answer. The reasoning process and\\nanswer are enclosed within <think> </think> and <answer> </answer> tags respectively. \\nFor example, <think> This is the reasoning process. </think>\\n<answer> The final answer is \\x08oxed{answer here}\\n</answer>. In the last part of the answer, the final exact answer is enclosed within \\x08oxed{}\\nwith xml format.\\n',\n",
       "  'role': 'system'},\n",
       " {'content': 'Title: Electric vehicle tribology\\nSubtitle: Challenges and opportunities for a sustainable transportation future\\nAuthor: Leonardo I. Farfan-Cabrera, Ali Erdemir\\nPublisher: Elsevier\\nYear: 2024\\nISBN: 978-0-443-14074-7\\nLanguage: English\\nCollection/Series: Elsevier Series on Tribology and Surface Engineering\\nEdition: Not specified\\nMaterial description: 1 vol. (XI-313 p.), couv. ill. en coul., 23 cm\\nAbstract/Notes: \"Electric vehicle tribology, challenges and opportunities for a sustainable transportation future\" provides practical, comprehensive guidance on a new and increasingly important area of tribology. Building skills from fundamentals to solution design, this book demonstrates the unique tribological techniques essential to the efficient electrification of transport systems. Led by professors with a combined three decades in industry and academia, and collecting insights from experts around the world, this book begins with the essential knowledge regarding both electric vehicles and tribology. After outlining the unique tribological needs of EVs, the book then breaks down the components and hardware required. It provides detailed protocols and methods for the testing and improvement of lubricants and materials as well as a dedicated section on modern lubrication specific to EVs. Throughout, it considers the critical question of sustainable tribology and the long-term sustainable options for lubrication and materials for electric vehicles.\\nSource of the abstract/notes: 4e de couverture\\nTable of contents: Not specified\\nKeywords: Tribologie (technologie), Tribologie (Technologie)',\n",
       "  'role': 'user'}]"
      ]
     },
     "execution_count": 77,
     "metadata": {},
     "output_type": "execute_result"
    }
   ],
   "source": [
    "dataset[0][\"prompt\"]"
   ]
  },
  {
   "cell_type": "code",
   "execution_count": null,
   "id": "6f0882ec-3ab3-4bfa-b8bb-f744108aa970",
   "metadata": {},
   "outputs": [],
   "source": []
  }
 ],
 "metadata": {
  "kernelspec": {
   "display_name": "Python 3 (ipykernel)",
   "language": "python",
   "name": "python3"
  },
  "language_info": {
   "codemirror_mode": {
    "name": "ipython",
    "version": 3
   },
   "file_extension": ".py",
   "mimetype": "text/x-python",
   "name": "python",
   "nbconvert_exporter": "python",
   "pygments_lexer": "ipython3",
   "version": "3.12.9"
  }
 },
 "nbformat": 4,
 "nbformat_minor": 5
}
